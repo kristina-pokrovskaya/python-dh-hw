{
 "cells": [
  {
   "cell_type": "markdown",
   "metadata": {},
   "source": []
  },
  {
   "cell_type": "markdown",
   "metadata": {},
   "source": [
    "# ДЗ №3. Неоцениваемое\n"
   ]
  },
  {
   "cell_type": "markdown",
   "metadata": {},
   "source": [
    "## Задание 1"
   ]
  },
  {
   "cell_type": "markdown",
   "metadata": {},
   "source": [
    "#### Напишите программу, которая по данному числу n от 1 до 9 выводит на экран n пингвинов."
   ]
  },
  {
   "cell_type": "code",
   "execution_count": 8,
   "metadata": {},
   "outputs": [
    {
     "name": "stdout",
     "output_type": "stream",
     "text": [
      "    -`-        -`-        -`-        -`-        -`-        -`-        -`-        -`-        -`-    \n",
      "   (o o)      (o o)      (o o)      (o o)      (o o)      (o o)      (o o)      (o o)      (o o)   \n",
      "  /  V  \\    /  V  \\    /  V  \\    /  V  \\    /  V  \\    /  V  \\    /  V  \\    /  V  \\    /  V  \\  \n",
      " /(     )\\  /(     )\\  /(     )\\  /(     )\\  /(     )\\  /(     )\\  /(     )\\  /(     )\\  /(     )\\ \n",
      "   ^^ ^^      ^^ ^^      ^^ ^^      ^^ ^^      ^^ ^^      ^^ ^^      ^^ ^^      ^^ ^^      ^^ ^^   \n"
     ]
    }
   ],
   "source": [
    "n=9\n",
    "brows = \"    -`-    \" * n\n",
    "head = \"   (o o)   \" * n\n",
    "hands = \"  /  V  \\  \"  * n \n",
    "belly = \" /(     )\\ \" * n\n",
    "feet = \"   ^^ ^^   \" * n\n",
    "print(brows)\n",
    "print(head)\n",
    "print(hands)\n",
    "print(belly)\n",
    "print(feet)\n",
    "\n",
    "\n",
    "\n",
    "\n",
    "\n",
    "\n"
   ]
  },
  {
   "cell_type": "markdown",
   "metadata": {
    "collapsed": true
   },
   "source": [
    "## Задание 2"
   ]
  },
  {
   "cell_type": "code",
   "execution_count": 9,
   "metadata": {},
   "outputs": [
    {
     "name": "stdout",
     "output_type": "stream",
     "text": [
      "количество слов:4\n"
     ]
    }
   ],
   "source": [
    "stroka = \"Я люблю свою маму\"\n",
    "words = stroka.split()\n",
    "\n",
    "print(\"количество слов:\" + str(len(words)))"
   ]
  },
  {
   "cell_type": "code",
   "execution_count": null,
   "metadata": {
    "collapsed": true
   },
   "outputs": [],
   "source": [
    "n = "
   ]
  }
 ],
 "metadata": {
  "kernelspec": {
   "display_name": "Python 3",
   "language": "python",
   "name": "python3"
  },
  "language_info": {
   "codemirror_mode": {
    "name": "ipython",
    "version": 3
   },
   "file_extension": ".py",
   "mimetype": "text/x-python",
   "name": "python",
   "nbconvert_exporter": "python",
   "pygments_lexer": "ipython3",
   "version": "3.6.3"
  }
 },
 "nbformat": 4,
 "nbformat_minor": 2
}
