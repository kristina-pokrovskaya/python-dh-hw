{
 "cells": [
  {
   "cell_type": "markdown",
   "metadata": {},
   "source": []
  },
  {
   "cell_type": "markdown",
   "metadata": {},
   "source": [
    "# ДЗ №3. Неоцениваемое\n"
   ]
  },
  {
   "cell_type": "markdown",
   "metadata": {},
   "source": [
    "## Задание 1"
   ]
  },
  {
   "cell_type": "markdown",
   "metadata": {},
   "source": [
    "#### Напишите программу, которая по данному числу n от 1 до 9 выводит на экран n пингвинов."
   ]
  },
  {
   "cell_type": "code",
   "execution_count": 8,
   "metadata": {},
   "outputs": [
    {
     "name": "stdout",
     "output_type": "stream",
     "text": [
      "    -`-        -`-        -`-        -`-        -`-        -`-        -`-        -`-        -`-    \n",
      "   (o o)      (o o)      (o o)      (o o)      (o o)      (o o)      (o o)      (o o)      (o o)   \n",
      "  /  V  \\    /  V  \\    /  V  \\    /  V  \\    /  V  \\    /  V  \\    /  V  \\    /  V  \\    /  V  \\  \n",
      " /(     )\\  /(     )\\  /(     )\\  /(     )\\  /(     )\\  /(     )\\  /(     )\\  /(     )\\  /(     )\\ \n",
      "   ^^ ^^      ^^ ^^      ^^ ^^      ^^ ^^      ^^ ^^      ^^ ^^      ^^ ^^      ^^ ^^      ^^ ^^   \n"
     ]
    }
   ],
   "source": [
    "n=9\n",
    "brows = \"    -`-    \" * n\n",
    "head = \"   (o o)   \" * n\n",
    "hands = \"  /  V  \\  \"  * n \n",
    "belly = \" /(     )\\ \" * n\n",
    "feet = \"   ^^ ^^   \" * n\n",
    "print(brows)\n",
    "print(head)\n",
    "print(hands)\n",
    "print(belly)\n",
    "print(feet)\n",
    "\n",
    "\n",
    "\n",
    "\n",
    "\n",
    "\n"
   ]
  },
  {
   "cell_type": "markdown",
   "metadata": {
    "collapsed": true
   },
   "source": [
    "## Задание 2"
   ]
  },
  {
   "cell_type": "markdown",
   "metadata": {},
   "source": [
    "###### Возьмите строку, состоящую из нескольких слов, разделенных пробелами. Программа должна напечатать количество слов."
   ]
  },
  {
   "cell_type": "code",
   "execution_count": 9,
   "metadata": {},
   "outputs": [
    {
     "name": "stdout",
     "output_type": "stream",
     "text": [
      "количество слов:4\n"
     ]
    }
   ],
   "source": [
    "stroka = \"Я люблю свою маму\"\n",
    "words = stroka.split()\n",
    "\n",
    "print(\"количество слов:\" + str(len(words)))"
   ]
  },
  {
   "cell_type": "markdown",
   "metadata": {
    "collapsed": true
   },
   "source": [
    "## Задание 3"
   ]
  },
  {
   "cell_type": "markdown",
   "metadata": {},
   "source": [
    "##### Напишите программу, которая будет определять наиболее вероятный знак Зодиака по месяцу рождения."
   ]
  },
  {
   "cell_type": "code",
   "execution_count": null,
   "metadata": {},
   "outputs": [],
   "source": [
    "month = input(\"Введите месяц Вашего рождения в формате m\\n\")\n",
    "if len(month) > 2:\n",
    "    print(\"Введено неверное число\")\n",
    "else:\n",
    "    month = int(month)\n",
    "    if month == 1:\n",
    "        print(\"Ваш знак Зодиака - Козерог\")\n",
    "    elif month == 2:\n",
    "        print(\"Ваш знак Зодиака - Водолей\")\n",
    "    elif month == 3:\n",
    "        print(\"Ваш знак Зодиака - Рыбы\")\n",
    "    elif month == 4:\n",
    "        print(\"Ваш знак Зодиака - Овен\")\n",
    "    elif month == 5:\n",
    "        print(\"Ваш знак Зодиака - Телец\")\n",
    "    elif month == 6:\n",
    "        print(\"Ваш знак Зодиака - Близнецы\")\n",
    "    elif month == 7:\n",
    "        print(\"Ваш знак Зодиака - Рак\")\n",
    "    elif month == 8:\n",
    "        print(\"Ваш знак Зодиака - Лев\")\n",
    "    elif month == 9:\n",
    "        print(\"Ваш знак Зодиака - Дева\")\n",
    "    elif month == 10:\n",
    "        print(\"Ваш знак Зодиака - Весы\")\n",
    "    elif month == 11:\n",
    "        print(\"Ваш знак Зодиака - Скорпион\")\n",
    "    elif month == 12:\n",
    "        print(\"Ваш знак Зодиака - Стрелец\")\n",
    "        \n",
    "        \n",
    "        \n",
    "    \n",
    "        \n",
    "    \n",
    "\n"
   ]
  }
 ],
 "metadata": {
  "kernelspec": {
   "display_name": "Python 3",
   "language": "python",
   "name": "python3"
  },
  "language_info": {
   "codemirror_mode": {
    "name": "ipython",
    "version": 3
   },
   "file_extension": ".py",
   "mimetype": "text/x-python",
   "name": "python",
   "nbconvert_exporter": "python",
   "pygments_lexer": "ipython3",
   "version": "3.6.3"
  }
 },
 "nbformat": 4,
 "nbformat_minor": 2
}
