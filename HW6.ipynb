{
 "cells": [
  {
   "cell_type": "markdown",
   "metadata": {
    "collapsed": true
   },
   "source": [
    "# ДЗ6 Оцениваемое"
   ]
  },
  {
   "cell_type": "markdown",
   "metadata": {},
   "source": [
    "## Задание 1"
   ]
  },
  {
   "cell_type": "markdown",
   "metadata": {},
   "source": [
    " Дан набор слов \"абракадабра фокус покус десятка за курс немедленно появись\""
   ]
  },
  {
   "cell_type": "code",
   "execution_count": 97,
   "metadata": {},
   "outputs": [
    {
     "name": "stdout",
     "output_type": "stream",
     "text": [
      "[('а', 'б'), ('б', 'р'), ('р', 'а'), ('а', 'к'), ('к', 'а'), ('а', 'д'), ('д', 'а'), ('а', 'б'), ('б', 'р'), ('р', 'а'), ('а', 'ф'), ('ф', 'о'), ('о', 'к'), ('к', 'у'), ('у', 'с'), ('с', 'п'), ('п', 'о'), ('о', 'к'), ('к', 'у'), ('у', 'с'), ('с', 'д'), ('д', 'е'), ('е', 'с'), ('с', 'я'), ('я', 'т'), ('т', 'к'), ('к', 'а'), ('а', 'з'), ('з', 'а'), ('а', 'к'), ('к', 'у'), ('у', 'р'), ('р', 'с'), ('с', 'н'), ('н', 'е'), ('е', 'м'), ('м', 'е'), ('е', 'д'), ('д', 'л'), ('л', 'е'), ('е', 'н'), ('н', 'н'), ('н', 'о'), ('о', 'п'), ('п', 'о'), ('о', 'я'), ('я', 'в'), ('в', 'и'), ('и', 'с'), ('с', 'ь')]\n"
     ]
    }
   ],
   "source": [
    "stroka = \"абракадабра фокус покус десятка за курс немедленно появись\"\n",
    "words = stroka.split()\n",
    "letters = list(''.join(words))\n",
    "def bigrams(stroka):\n",
    "    return [(letters[i], letters[i+1]) for i in range(0, len(letters)-1)]\n",
    "print(bigrams(stroka))"
   ]
  },
  {
   "cell_type": "markdown",
   "metadata": {},
   "source": [
    "## Задание 2"
   ]
  },
  {
   "cell_type": "markdown",
   "metadata": {},
   "source": [
    "Даны два слова, ваша программа должна проверять является ли второе слово обратной записью первого слова."
   ]
  },
  {
   "cell_type": "code",
   "execution_count": 8,
   "metadata": {},
   "outputs": [
    {
     "name": "stdout",
     "output_type": "stream",
     "text": [
      "Введите пару слов через пробел: мот том\n"
     ]
    },
    {
     "data": {
      "text/plain": [
       "'yes'"
      ]
     },
     "execution_count": 8,
     "metadata": {},
     "output_type": "execute_result"
    }
   ],
   "source": [
    "def zerkalo(word):\n",
    "    word = str(input(\"Введите пару слов через пробел: \"))\n",
    "    a = word[::-1]\n",
    "    if word == a:\n",
    "        return\"yes\"\n",
    "    else:\n",
    "        return\"no\"\n",
    "zerkalo(word)\n"
   ]
  },
  {
   "cell_type": "code",
   "execution_count": 9,
   "metadata": {},
   "outputs": [
    {
     "name": "stdout",
     "output_type": "stream",
     "text": [
      "Введите пару слов через пробел: злой добрый\n"
     ]
    },
    {
     "data": {
      "text/plain": [
       "'no'"
      ]
     },
     "execution_count": 9,
     "metadata": {},
     "output_type": "execute_result"
    }
   ],
   "source": [
    "zerkalo(word)"
   ]
  }
 ],
 "metadata": {
  "kernelspec": {
   "display_name": "Python 3",
   "language": "python",
   "name": "python3"
  },
  "language_info": {
   "codemirror_mode": {
    "name": "ipython",
    "version": 3
   },
   "file_extension": ".py",
   "mimetype": "text/x-python",
   "name": "python",
   "nbconvert_exporter": "python",
   "pygments_lexer": "ipython3",
   "version": "3.6.3"
  }
 },
 "nbformat": 4,
 "nbformat_minor": 2
}
